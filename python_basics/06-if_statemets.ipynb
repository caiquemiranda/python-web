{
 "cells": [
  {
   "cell_type": "code",
   "execution_count": 1,
   "metadata": {},
   "outputs": [],
   "source": [
    "# if statements"
   ]
  },
  {
   "cell_type": "code",
   "execution_count": 2,
   "metadata": {},
   "outputs": [],
   "source": [
    "price = 100"
   ]
  },
  {
   "cell_type": "code",
   "execution_count": 3,
   "metadata": {},
   "outputs": [
    {
     "name": "stdout",
     "output_type": "stream",
     "text": [
      "Don't buy the chair!\n"
     ]
    }
   ],
   "source": [
    "if price < 100:\n",
    "    print(\"Buy the chair!\")\n",
    "else:\n",
    "    print(\"Don't buy the chair!\")"
   ]
  },
  {
   "cell_type": "code",
   "execution_count": 4,
   "metadata": {},
   "outputs": [],
   "source": [
    "# >=, <, >, <=, ==, !="
   ]
  },
  {
   "cell_type": "code",
   "execution_count": 5,
   "metadata": {},
   "outputs": [
    {
     "name": "stdout",
     "output_type": "stream",
     "text": [
      "You can buy if you really want...\n"
     ]
    }
   ],
   "source": [
    "if price < 100:\n",
    "    print(\"Buy the chair!\")\n",
    "elif price == 100:\n",
    "    print(\"You can buy if you really want...\")\n",
    "else:\n",
    "    print(\"Don't buy the chair!\")"
   ]
  },
  {
   "cell_type": "code",
   "execution_count": 6,
   "metadata": {},
   "outputs": [],
   "source": [
    "def age_seconds():\n",
    "    seconds_or_years = input(\"How old are you? (s or y) \")\n",
    "    if seconds_or_years == \"s\":\n",
    "        # convert seconds to years\n",
    "        use_value = input(\"Enter the number od seconds you've lived for: \")\n",
    "        print(f\"You've lived for {int(use_value) / 60/ 60/ 24/ 365} years\")\n",
    "    elif seconds_or_years == \"y\":\n",
    "        # convert years to seconds\n",
    "        use_value = input(\"Enter the number of years you've lived for: \")\n",
    "        print(f\"You've lived for {int(use_value) * 365 * 24 * 60 * 60} seconds\")"
   ]
  },
  {
   "cell_type": "code",
   "execution_count": 9,
   "metadata": {},
   "outputs": [
    {
     "name": "stdout",
     "output_type": "stream",
     "text": [
      "You've lived for 50.0 years\n"
     ]
    }
   ],
   "source": [
    "age_seconds()"
   ]
  }
 ],
 "metadata": {
  "kernelspec": {
   "display_name": "Python 3.10.5 64-bit (system)",
   "language": "python",
   "name": "python3"
  },
  "language_info": {
   "codemirror_mode": {
    "name": "ipython",
    "version": 3
   },
   "file_extension": ".py",
   "mimetype": "text/x-python",
   "name": "python",
   "nbconvert_exporter": "python",
   "pygments_lexer": "ipython3",
   "version": "3.10.5"
  },
  "orig_nbformat": 4,
  "vscode": {
   "interpreter": {
    "hash": "74af3d2f25f1e46ebd2903d59225d79e4675ec224d56c01fc30cd168c2010d53"
   }
  }
 },
 "nbformat": 4,
 "nbformat_minor": 2
}
